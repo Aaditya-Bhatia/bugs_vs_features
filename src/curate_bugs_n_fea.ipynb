{
 "cells": [
  {
   "cell_type": "code",
   "execution_count": 2,
   "id": "initial_id",
   "metadata": {
    "collapsed": true,
    "ExecuteTime": {
     "end_time": "2023-12-30T19:16:09.551363Z",
     "start_time": "2023-12-30T19:16:06.797675Z"
    }
   },
   "outputs": [
    {
     "name": "stdout",
     "output_type": "stream",
     "text": [
      "there were 251552 posts\n"
     ]
    }
   ],
   "source": [
    "import pandas as pd\n",
    "import os\n",
    "os.chdir(\"/Users/aadityabhatia/Documents/GitHub/SE_Bugs_vs_Features\")\n",
    "posts_df = pd.read_csv('data/data_main/Posts.csv')\n",
    "print(f\"there were {len(posts_df)} posts\")"
   ]
  },
  {
   "cell_type": "code",
   "execution_count": 5,
   "outputs": [
    {
     "data": {
      "text/plain": "   Id  PostTypeId             CreationDate  Score  ViewCount  \\\n0   1           1  2009-06-28T07:14:29.363     65     3711.0   \n1   6           1  2009-06-28T08:40:18.673     11      665.0   \n2   9           1  2009-06-28T08:58:25.837      8      306.0   \n3  10           1  2009-06-28T09:16:44.733     13      755.0   \n4  11           1  2009-06-28T09:19:00.827      4      304.0   \n\n                                                Body  OwnerUserId  \\\n0  <p>Now that we have meta.stackoverflow.com, sh...          1.0   \n1  <p>When using Google for your OpenId provider,...      41673.0   \n2  <p>From the very beginning (<a href=\"https://b...       6309.0   \n3  <p>I think that each user should have the same...      11361.0   \n4  <p>Take a look at <a href=\"https://stackoverfl...      84671.0   \n\n   LastEditorUserId             LastEditDate         LastActivityDate  \\\n0           56285.0  2009-08-30T09:13:00.970  2016-06-19T19:14:20.943   \n1               1.0  2011-08-24T05:24:39.127  2011-08-24T05:25:38.643   \n2              -1.0  2021-01-18T11:50:44.587  2009-07-10T13:49:24.210   \n3           11361.0  2009-08-27T18:09:33.373  2009-08-27T18:09:33.373   \n4              -1.0  2017-05-23T12:36:51.107  2009-07-10T14:49:47.770   \n\n                                               Title  \\\n0  Should meta.stackoverflow.com replace uservoic...   \n1  Should StackOverflow support more than 2 openi...   \n2  How about a separate private \"bounty points\" *...   \n3  Should a user have only one account on all SO/...   \n4              Search for users per (part of) OpenID   \n\n                                                Tags  AnswerCount  \\\n0          <discussion><status-completed><uservoice>          7.0   \n1  <feature-request><status-completed><openid><lo...          4.0   \n2       <feature-request><status-declined><bounties>          4.0   \n3  <feature-request><status-declined><user-accounts>          9.0   \n4                  <feature-request><search><openid>          2.0   \n\n   CommentCount               ClosedDate ContentLicense  \n0             5  2012-05-10T01:35:44.630   CC BY-SA 2.5  \n1             3                      NaN   CC BY-SA 2.5  \n2             3                      NaN   CC BY-SA 4.0  \n3             0                      NaN   CC BY-SA 2.5  \n4             2  2019-06-20T16:01:14.123   CC BY-SA 2.5  ",
      "text/html": "<div>\n<style scoped>\n    .dataframe tbody tr th:only-of-type {\n        vertical-align: middle;\n    }\n\n    .dataframe tbody tr th {\n        vertical-align: top;\n    }\n\n    .dataframe thead th {\n        text-align: right;\n    }\n</style>\n<table border=\"1\" class=\"dataframe\">\n  <thead>\n    <tr style=\"text-align: right;\">\n      <th></th>\n      <th>Id</th>\n      <th>PostTypeId</th>\n      <th>CreationDate</th>\n      <th>Score</th>\n      <th>ViewCount</th>\n      <th>Body</th>\n      <th>OwnerUserId</th>\n      <th>LastEditorUserId</th>\n      <th>LastEditDate</th>\n      <th>LastActivityDate</th>\n      <th>Title</th>\n      <th>Tags</th>\n      <th>AnswerCount</th>\n      <th>CommentCount</th>\n      <th>ClosedDate</th>\n      <th>ContentLicense</th>\n    </tr>\n  </thead>\n  <tbody>\n    <tr>\n      <th>0</th>\n      <td>1</td>\n      <td>1</td>\n      <td>2009-06-28T07:14:29.363</td>\n      <td>65</td>\n      <td>3711.0</td>\n      <td>&lt;p&gt;Now that we have meta.stackoverflow.com, sh...</td>\n      <td>1.0</td>\n      <td>56285.0</td>\n      <td>2009-08-30T09:13:00.970</td>\n      <td>2016-06-19T19:14:20.943</td>\n      <td>Should meta.stackoverflow.com replace uservoic...</td>\n      <td>&lt;discussion&gt;&lt;status-completed&gt;&lt;uservoice&gt;</td>\n      <td>7.0</td>\n      <td>5</td>\n      <td>2012-05-10T01:35:44.630</td>\n      <td>CC BY-SA 2.5</td>\n    </tr>\n    <tr>\n      <th>1</th>\n      <td>6</td>\n      <td>1</td>\n      <td>2009-06-28T08:40:18.673</td>\n      <td>11</td>\n      <td>665.0</td>\n      <td>&lt;p&gt;When using Google for your OpenId provider,...</td>\n      <td>41673.0</td>\n      <td>1.0</td>\n      <td>2011-08-24T05:24:39.127</td>\n      <td>2011-08-24T05:25:38.643</td>\n      <td>Should StackOverflow support more than 2 openi...</td>\n      <td>&lt;feature-request&gt;&lt;status-completed&gt;&lt;openid&gt;&lt;lo...</td>\n      <td>4.0</td>\n      <td>3</td>\n      <td>NaN</td>\n      <td>CC BY-SA 2.5</td>\n    </tr>\n    <tr>\n      <th>2</th>\n      <td>9</td>\n      <td>1</td>\n      <td>2009-06-28T08:58:25.837</td>\n      <td>8</td>\n      <td>306.0</td>\n      <td>&lt;p&gt;From the very beginning (&lt;a href=\"https://b...</td>\n      <td>6309.0</td>\n      <td>-1.0</td>\n      <td>2021-01-18T11:50:44.587</td>\n      <td>2009-07-10T13:49:24.210</td>\n      <td>How about a separate private \"bounty points\" *...</td>\n      <td>&lt;feature-request&gt;&lt;status-declined&gt;&lt;bounties&gt;</td>\n      <td>4.0</td>\n      <td>3</td>\n      <td>NaN</td>\n      <td>CC BY-SA 4.0</td>\n    </tr>\n    <tr>\n      <th>3</th>\n      <td>10</td>\n      <td>1</td>\n      <td>2009-06-28T09:16:44.733</td>\n      <td>13</td>\n      <td>755.0</td>\n      <td>&lt;p&gt;I think that each user should have the same...</td>\n      <td>11361.0</td>\n      <td>11361.0</td>\n      <td>2009-08-27T18:09:33.373</td>\n      <td>2009-08-27T18:09:33.373</td>\n      <td>Should a user have only one account on all SO/...</td>\n      <td>&lt;feature-request&gt;&lt;status-declined&gt;&lt;user-accounts&gt;</td>\n      <td>9.0</td>\n      <td>0</td>\n      <td>NaN</td>\n      <td>CC BY-SA 2.5</td>\n    </tr>\n    <tr>\n      <th>4</th>\n      <td>11</td>\n      <td>1</td>\n      <td>2009-06-28T09:19:00.827</td>\n      <td>4</td>\n      <td>304.0</td>\n      <td>&lt;p&gt;Take a look at &lt;a href=\"https://stackoverfl...</td>\n      <td>84671.0</td>\n      <td>-1.0</td>\n      <td>2017-05-23T12:36:51.107</td>\n      <td>2009-07-10T14:49:47.770</td>\n      <td>Search for users per (part of) OpenID</td>\n      <td>&lt;feature-request&gt;&lt;search&gt;&lt;openid&gt;</td>\n      <td>2.0</td>\n      <td>2</td>\n      <td>2019-06-20T16:01:14.123</td>\n      <td>CC BY-SA 2.5</td>\n    </tr>\n  </tbody>\n</table>\n</div>"
     },
     "execution_count": 5,
     "metadata": {},
     "output_type": "execute_result"
    }
   ],
   "source": [
    "posts_df.head()"
   ],
   "metadata": {
    "collapsed": false,
    "ExecuteTime": {
     "end_time": "2023-12-30T17:46:07.824736Z",
     "start_time": "2023-12-30T17:46:07.764431Z"
    }
   },
   "id": "c1b9f01669c85fcb"
  },
  {
   "cell_type": "code",
   "execution_count": 4,
   "outputs": [
    {
     "name": "stdout",
     "output_type": "stream",
     "text": [
      "Got issues 47048\n"
     ]
    }
   ],
   "source": [
    "# getting issues from posts; these are bugs or features\n",
    "issues_df = posts_df[posts_df.Tags.str.contains(\"feature-request\") | posts_df.Tags.str.contains(\"bug\")]\n",
    "print(f\"Got issues {len(issues_df)}\")\n"
   ],
   "metadata": {
    "collapsed": false,
    "ExecuteTime": {
     "end_time": "2023-12-30T19:16:23.889979Z",
     "start_time": "2023-12-30T19:16:23.731480Z"
    }
   },
   "id": "ff3a347d9f5b3c53"
  },
  {
   "cell_type": "code",
   "execution_count": 13,
   "outputs": [
    {
     "name": "stdout",
     "output_type": "stream",
     "text": [
      "removed count 1725, remaining 45323 issues\n"
     ]
    }
   ],
   "source": [
    "# remove posts without user id\n",
    "issues_df_1 = issues_df[~issues_df.OwnerUserId.isna()]\n",
    "print(f\"removed count {(len(issues_df) - len(issues_df_1))}, remaining {len(issues_df_1)} issues\" )"
   ],
   "metadata": {
    "collapsed": false,
    "ExecuteTime": {
     "end_time": "2023-12-30T19:19:34.064937Z",
     "start_time": "2023-12-30T19:19:34.053585Z"
    }
   },
   "id": "99eba9af00fd9969"
  },
  {
   "cell_type": "code",
   "execution_count": 16,
   "outputs": [
    {
     "name": "stdout",
     "output_type": "stream",
     "text": [
      "removed count 494, remaining 44829 issues\n"
     ]
    }
   ],
   "source": [
    "# remove both bug and feature remove\n",
    "\n",
    "issues_df_2 = issues_df_1[~(issues_df_1.Tags.str.contains(\"feature-request\") & issues_df_1.Tags.str.contains(\"bug\"))]\n",
    "print(f\"removed count {(len(issues_df_1) - len(issues_df_2))}, remaining {len(issues_df_2)} issues\" )\n"
   ],
   "metadata": {
    "collapsed": false,
    "ExecuteTime": {
     "end_time": "2023-12-30T19:20:37.280691Z",
     "start_time": "2023-12-30T19:20:37.263422Z"
    }
   },
   "id": "c23cadf637a7f788"
  },
  {
   "cell_type": "code",
   "execution_count": 17,
   "outputs": [],
   "source": [
    "# remove not status completed\n",
    "\n",
    "issues_df_3 = issues_df_2[issues_df_2.Tags.str.contains(\"status-completed\")]\n",
    "issues_df_3.to_csv(\"data/issues.csv\", index=0)\n"
   ],
   "metadata": {
    "collapsed": false,
    "ExecuteTime": {
     "end_time": "2023-12-30T19:20:58.494739Z",
     "start_time": "2023-12-30T19:20:58.304452Z"
    }
   },
   "id": "dd18537cb7522885"
  },
  {
   "cell_type": "code",
   "execution_count": 18,
   "outputs": [
    {
     "name": "stdout",
     "output_type": "stream",
     "text": [
      "All len: 11074, Bugs: 7941, Fea: 3133, validation: True\n"
     ]
    },
    {
     "data": {
      "text/plain": "11074"
     },
     "execution_count": 18,
     "metadata": {},
     "output_type": "execute_result"
    }
   ],
   "source": [
    "# how many bugs and how many faetures\n",
    "\n",
    "b = len(issues_df_3[issues_df_3.Tags.str.contains(\"bug\")])\n",
    "f = len(issues_df_3[issues_df_3.Tags.str.contains(\"feature-request\")])\n",
    "print(f\"All len: {len(issues_df_3)}, Bugs: {b}, Fea: {f}, validation: {len(issues_df_3)== b+f}\")\n",
    "\n",
    "b+f"
   ],
   "metadata": {
    "collapsed": false,
    "ExecuteTime": {
     "end_time": "2023-12-30T19:21:02.236425Z",
     "start_time": "2023-12-30T19:21:02.210986Z"
    }
   },
   "id": "5d9a36980b50a533"
  },
  {
   "cell_type": "markdown",
   "source": [
    "# Appendix:\n",
    "## what are the diff types of tags and how are they reported?"
   ],
   "metadata": {
    "collapsed": false
   },
   "id": "90fa02519633232b"
  },
  {
   "cell_type": "code",
   "execution_count": 21,
   "outputs": [
    {
     "name": "stdout",
     "output_type": "stream",
     "text": [
      "284\n"
     ]
    },
    {
     "data": {
      "text/plain": "['mathjax>',\n 'profile-page>',\n 'alerts>',\n 'moderator-abilities>',\n 'search>',\n 'vote-to-close>',\n 'reputation-history>',\n 'markdown-rendering>',\n 'responses>',\n 'back-button>',\n 'post-feedback>',\n 'error-message>',\n 'edit-summary>',\n 'retina>',\n 'full-site>',\n 'close-reasons>',\n 'firefox>',\n 'android-app>',\n 'automatic-comments>',\n 'question-statistics>',\n 'global-inbox>',\n 'badge-progress>',\n 'comment-replies>',\n 'status-norepro>',\n 'meta>',\n 'focus>',\n 'responsive-design>',\n 'windows-10>',\n 'status-planned>',\n 'stack-snippets>',\n 'network-profile>',\n 'moderator-tools>',\n 'status-deferred>',\n 'feature-request-process>',\n 'status-declined>',\n 'inline-editor>',\n 'unanswered-questions>',\n 'deployment>',\n 'uploader>',\n 'deleted-answers>',\n 'edits>',\n 'location>',\n 'reopened-questions>',\n 'editor>',\n 'closed-sites>',\n 'low-quality-posts>',\n 'status-bydesign>',\n 'views>',\n 'stack-overflow>',\n 'linked-questions>',\n 'stack-exchange-openid>',\n 'stackexchange.com>',\n 'plurals>',\n 'asking-questions>',\n 'tag-synonyms>',\n 'tour>',\n 'communities-list>',\n 'privileges>',\n 'live-refresh>',\n 'caching>',\n 'scrolling>',\n 'blog>',\n 'winter-bash-2015>',\n 'discussion>',\n 'creative-commons>',\n 'protected-questions>',\n 'popups>',\n 'footer>',\n 'related-questions>',\n 'questions>',\n 'user-search>',\n 'design>',\n 'openid>',\n 'review-audits>',\n 'achievements-dialog>',\n 'automatic-flags>',\n 'tag-pruning>',\n 'jobs>',\n 'comment-voting>',\n 'locked-questions>',\n 'up-votes>',\n 'code-formatting>',\n 'down-votes>',\n 'per-site-meta>',\n 'chat>',\n 'flair>',\n 'site-analytics>',\n 'user-accounts>',\n 'election>',\n 'community-bulletin>',\n 'gaming-the-system>',\n 'new-nav>',\n 'questions-page>',\n 'bookmarks>',\n 'magic-links>',\n 'help-center>',\n 'current-user>',\n 'custom-close-reasons>',\n 'nominations>',\n 'draft>',\n 'bug>',\n 'hyperlinks>',\n 'moderator-messages>',\n 'languages>',\n 'onebox>',\n 'title>',\n 'graduating-sites>',\n 'winter-bash-2017>',\n 'flag-ban>',\n 'deleted-comments>',\n 'unregistered-users>',\n 'new-users>',\n 'user-card>',\n 'sidebar>',\n 'association-bonus>',\n 'wording>',\n 'declined-flags>',\n 'capitalization>',\n 'touch-screen>',\n 'suggested-edits>',\n 'bounties>',\n 'support>',\n 'rate-limiting>',\n 'captcha>',\n 'usability>',\n 'dupehammer>',\n 'reputation-graph>',\n 'csrf>',\n 'users>',\n 'electorate-badge>',\n 'timeline>',\n 'navigation>',\n 'revisions-list>',\n 'spelling>',\n 'quality-filter>',\n 'tag-filters>',\n 'ignored-users>',\n 'bugs-reqs-tabs>',\n 'community-wiki>',\n 'flag-history>',\n 'top-users>',\n 'badge-request>',\n 'deleted-posts>',\n 'twitter>',\n 'tag-merge-utility>',\n 'posts>',\n 'google-chrome>',\n 'link-rot>',\n 'stack-exchange>',\n 'ios-app>',\n 'russian-stackoverflow>',\n 'logout>',\n 'display-names>',\n 'recent-activity>',\n 'markdown>',\n 'the-overflow>',\n 'feed>',\n 'realtime-questions>',\n 'login>',\n 'youtube>',\n 'personal-statistics>',\n 'email-notification>',\n 'user-interface>',\n 'plaintext-email>',\n 'moderator-tags>',\n 'attribution>',\n 'similar-questions>',\n 'user-list>',\n 'accepted-answer>',\n 'voting>',\n 'deleted-accounts>',\n 'information-display>',\n 'internal-links>',\n 'fonts>',\n 'mobile-web>',\n 'tooltips>',\n 'flag-queue>',\n 'retracted-close-votes>',\n 'vote-to-delete>',\n 'dates>',\n 'privileges-page>',\n 'tag-autocomplete>',\n 'post-notices>',\n 'daily-reputation-limit>',\n 'status-review>',\n 'accessibility>',\n 'pagination>',\n 'favicon>',\n 'inline-tag-editor>',\n 'sql>',\n 'spoilers>',\n 'terms-of-service>',\n 'newsletter>',\n 'migration>',\n 'gravatar>',\n 'blocklist>',\n 'tag-wiki>',\n 'blockquote>',\n 'tags>',\n 'close-dialog>',\n 'post-menu>',\n 'notification-bar>',\n 'closed-questions>',\n 'events>',\n '10k-tools>',\n 'deleted-questions>',\n 'winter-bash>',\n 'tags-page>',\n 'vote-count>',\n 'answers>',\n 'hot-questions>',\n 'blog-overflow>',\n 'redirection>',\n 'ssl>',\n 'bug-reports>',\n 'review>',\n 'tag-watching>',\n 'jsfiddle>',\n 'consecutive-days>',\n 'status-completed>',\n 'merged-questions>',\n 'safari>',\n 'logo>',\n 'post-ban>',\n 'migration-rejection>',\n 'email-verification>',\n 'top-bar>',\n 'featured-tag>',\n '500-server-error>',\n 'feature-request>',\n 'exact-phrase-search>',\n 'flags>',\n 'syntax-highlighting>',\n 'chat-stars>',\n 'tag-wiki-excerpt>',\n 'moderators>',\n 'browsers>',\n 'list>',\n 'data-explorer>',\n 'email>',\n 'jquery>',\n 'question-lists>',\n 'maintenance>',\n 'notifications>',\n 'localization>',\n 'community>',\n 'spam>',\n 'area-51>',\n 'hidden-communities>',\n 'reputation>',\n 'keyboard-shortcuts>',\n 'ignored-tags>',\n 'images>',\n 'highlighting>',\n 'chat-transcript>',\n 'comment-flags>',\n 'advertising>',\n 'account-suspension>',\n 'people-reached>',\n 'frozen-rooms>',\n 'stack-exchange-team>',\n 'autocomplete>',\n 'sharing>',\n 'alt-text>',\n 'tag-badges>',\n 'election-page>',\n 'security>',\n 'preferences>',\n 'chat-search>',\n 'diff>',\n 'profile-picture>',\n 'api>',\n 'room-owner>',\n 'character-limit>',\n 'disputed-flags>',\n 'ajax>',\n 'bump>',\n 'homepage>',\n 'duplicate-questions>',\n 'traducir>',\n 'sorting>',\n 'grammar>',\n 'badges>',\n 'comments>']"
     },
     "execution_count": 21,
     "metadata": {},
     "output_type": "execute_result"
    }
   ],
   "source": [
    "tags = issues_df_1.Tags.to_list()\n",
    "\n",
    "def get_tags(tags):\n",
    "    # Initialize an empty set to store unique tags\n",
    "    unique_tags = set()\n",
    "    \n",
    "    # Iterate through the list of tags\n",
    "    for tag in tags:\n",
    "        # Split the tag string by \"<\" and \">\"\n",
    "        tag_parts = tag.split(\"<\")\n",
    "        \n",
    "        # Extract and add each tag to the set\n",
    "        for part in tag_parts:\n",
    "            if part != \"\":\n",
    "                unique_tags.add(part)\n",
    "    \n",
    "    # Convert the set back to a list if needed\n",
    "    unique_tags_list = list(unique_tags)\n",
    "    \n",
    "    # Print the unique tags\n",
    "    return unique_tags_list\n",
    "\n",
    "tag_list = get_tags(tags)\n",
    "print(len(tag_list))\n",
    "tag_list \n"
   ],
   "metadata": {
    "collapsed": false,
    "ExecuteTime": {
     "start_time": "2023-12-30T18:00:35.856938Z"
    }
   },
   "id": "f58f25c2b00a2152"
  },
  {
   "cell_type": "code",
   "execution_count": 22,
   "outputs": [
    {
     "data": {
      "text/plain": "['feature-request-process>',\n 'bug>',\n 'bugs-reqs-tabs>',\n 'bug-reports>',\n 'featured-tag>',\n 'feature-request>']"
     },
     "execution_count": 22,
     "metadata": {},
     "output_type": "execute_result"
    }
   ],
   "source": [
    "# how are bugs and features reported? \n",
    "filtered_tags = [tag for tag in tag_list if \"bug\" in tag or \"feature\" in tag]\n",
    "filtered_tags"
   ],
   "metadata": {
    "collapsed": false,
    "ExecuteTime": {
     "start_time": "2023-12-30T18:00:53.217875Z"
    }
   },
   "id": "d6387aa7ea66bb21"
  },
  {
   "cell_type": "code",
   "execution_count": 24,
   "outputs": [
    {
     "data": {
      "text/plain": "['status-norepro>',\n 'status-planned>',\n 'status-deferred>',\n 'status-declined>',\n 'status-bydesign>',\n 'status-review>',\n 'status-completed>']"
     },
     "execution_count": 24,
     "metadata": {},
     "output_type": "execute_result"
    }
   ],
   "source": [
    "# how are status tags reported?\n",
    "filtered_tags = [tag for tag in tag_list if \"status\" in tag]\n",
    "filtered_tags"
   ],
   "metadata": {
    "collapsed": false,
    "ExecuteTime": {
     "start_time": "2023-12-30T18:01:57.880512Z"
    }
   },
   "id": "66cdecb873324c20"
  }
 ],
 "metadata": {
  "kernelspec": {
   "display_name": "Python 3",
   "language": "python",
   "name": "python3"
  },
  "language_info": {
   "codemirror_mode": {
    "name": "ipython",
    "version": 2
   },
   "file_extension": ".py",
   "mimetype": "text/x-python",
   "name": "python",
   "nbconvert_exporter": "python",
   "pygments_lexer": "ipython2",
   "version": "2.7.6"
  }
 },
 "nbformat": 4,
 "nbformat_minor": 5
}
